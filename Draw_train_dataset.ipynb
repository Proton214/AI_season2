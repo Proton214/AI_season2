{
 "cells": [
  {
   "cell_type": "code",
   "execution_count": 1,
   "metadata": {},
   "outputs": [],
   "source": [
    "import matplotlib.pyplot as plt\n",
    "import numpy as np\n",
    "import glob"
   ]
  },
  {
   "cell_type": "code",
   "execution_count": 2,
   "metadata": {},
   "outputs": [],
   "source": [
    "color_map = plt.cm.get_cmap('RdBu')\n",
    "color_map = color_map.reversed()"
   ]
  },
  {
   "cell_type": "code",
   "execution_count": null,
   "metadata": {},
   "outputs": [],
   "source": [
    "train_path = 'train'\n",
    "train_files = sorted(glob.glob(train_path + '/*'))\n",
    "    \n",
    "for file in train_files:\n",
    "        \n",
    "    image_sample = np.load(file)\n",
    "    plt.style.use('fivethirtyeight')\n",
    "    plt.figure(figsize=(30,30))\n",
    "\n",
    "    for i in range(9):\n",
    "        plt.subplot(3,4,i+1)\n",
    "        plt.imshow(image_sample[:,:,i], cmap=color_map)\n",
    "    \n",
    "    plt.subplot(3,4,10)\n",
    "    plt.imshow(image_sample[:,:,-1], cmap = color_map)\n",
    "    plt.savefig(file + '.png', dpi=300)\n",
    "    plt.close()"
   ]
  },
  {
   "cell_type": "code",
   "execution_count": null,
   "metadata": {},
   "outputs": [],
   "source": []
  }
 ],
 "metadata": {
  "kernelspec": {
   "display_name": "Python 3",
   "language": "python",
   "name": "python3"
  },
  "language_info": {
   "codemirror_mode": {
    "name": "ipython",
    "version": 3
   },
   "file_extension": ".py",
   "mimetype": "text/x-python",
   "name": "python",
   "nbconvert_exporter": "python",
   "pygments_lexer": "ipython3",
   "version": "3.7.4"
  }
 },
 "nbformat": 4,
 "nbformat_minor": 2
}
